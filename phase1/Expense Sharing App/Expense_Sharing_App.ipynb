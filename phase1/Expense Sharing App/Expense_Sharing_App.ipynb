{
  "nbformat": 4,
  "nbformat_minor": 0,
  "metadata": {
    "colab": {
      "provenance": []
    },
    "kernelspec": {
      "name": "python3",
      "display_name": "Python 3"
    },
    "language_info": {
      "name": "python"
    }
  },
  "cells": [
    {
      "cell_type": "markdown",
      "source": [
        "# **Import the necessary Libraries**"
      ],
      "metadata": {
        "id": "Rd-pjK2EsDiK"
      }
    },
    {
      "cell_type": "code",
      "source": [
        "import tkinter as tk\n",
        "from tkinter import simpledialog, messagebox\n",
        "from tkinter import ttk  # Import themed Tkinter module"
      ],
      "metadata": {
        "id": "-MwbS52XsZPc"
      },
      "execution_count": null,
      "outputs": []
    },
    {
      "cell_type": "markdown",
      "source": [
        "# **Expense** **Tracker** **Class**"
      ],
      "metadata": {
        "id": "mygd_fwpscWt"
      }
    },
    {
      "cell_type": "code",
      "source": [
        "class ExpenseTracker:\n",
        "    def __init__(self):\n",
        "        self.users = {}\n",
        "        self.expenses = []\n",
        "\n",
        "    def add_user(self, user_name):\n",
        "        if user_name not in self.users:\n",
        "            self.users[user_name] = 0\n",
        "            return f\"User '{user_name}' added successfully.\"\n",
        "        else:\n",
        "            return f\"{user_name} already exists.\"\n",
        "\n",
        "    def add_expense(self, payer, amount, participants):\n",
        "        if payer not in self.users:\n",
        "            return f\"{payer} does not exist. Please add the user first.\"\n",
        "\n",
        "        total_participants = len(participants)\n",
        "        if total_participants == 0:\n",
        "            return \"No participants in the expense. Please add participants.\"\n",
        "\n",
        "        individual_share = amount / total_participants\n",
        "\n",
        "        # Update payer's balance\n",
        "        self.users[payer] += amount\n",
        "\n",
        "        # Update participants' balances\n",
        "        for participant in participants:\n",
        "            if participant not in self.users:\n",
        "                return f\"{participant} does not exist. Please add the user first.\"\n",
        "            self.users[participant] -= individual_share\n",
        "\n",
        "        self.expenses.append({\n",
        "            'payer': payer,\n",
        "            'amount': amount,\n",
        "            'participants': participants\n",
        "        })\n",
        "\n",
        "        return \"Expense added successfully.\"\n",
        "\n",
        "    def show_balances(self):\n",
        "        return \"\\n\".join([f\"{user}: {balance}\" for user, balance in self.users.items()])\n",
        "\n",
        "    def show_expenses(self):\n",
        "        return \"\\n\".join([f\"Payer: {expense['payer']}, Amount: {expense['amount']}, Participants: {expense['participants']}\" for expense in self.expenses])\n"
      ],
      "metadata": {
        "id": "Il3tqG_KtX1j"
      },
      "execution_count": null,
      "outputs": []
    },
    {
      "cell_type": "markdown",
      "source": [
        "# **GUI Setup**"
      ],
      "metadata": {
        "id": "N0EmkyovthLg"
      }
    },
    {
      "cell_type": "code",
      "source": [
        "\n",
        "        # GUI setup\n",
        "        self.master = master\n",
        "        master.title(\"Expense Sharing App\")\n",
        "\n",
        "        # Choose a different theme - 'clam', 'alt', 'default', 'classic', etc.\n",
        "        style = ttk.Style()\n",
        "        style.theme_use('classic')\n",
        "\n",
        "        # Create a custom style for themed widgets\n",
        "        style.configure(\"TButton\", padding=7, relief=\"flat\", background=\"pink\", foreground=\"black\")  # Change button style\n",
        "\n",
        "        self.label = ttk.Label(master, text=\"Expense Tracker Menu\", style=\"TLabel\")\n",
        "        self.label.pack(pady=8)\n",
        "\n",
        "        self.add_user_button = ttk.Button(master, text=\"Add User\", command=self.add_user)\n",
        "        self.add_user_button.pack()\n",
        "\n",
        "        self.add_expense_button = ttk.Button(master, text=\"Add Expense\", command=self.add_expense)\n",
        "        self.add_expense_button.pack()\n",
        "\n",
        "        self.show_balances_button = ttk.Button(master, text=\"Show Balances\", command=self.show_balances)\n",
        "        self.show_balances_button.pack()\n",
        "\n",
        "        self.show_expenses_button = ttk.Button(master, text=\"Show Expenses\", command=self.show_expenses)\n",
        "        self.show_expenses_button.pack()\n",
        "\n",
        "        self.exit_button = ttk.Button(master, text=\"Exit\", command=master.destroy)\n",
        "        self.exit_button.pack()\n",
        "\n",
        "        self.details_text = tk.Text(master, height=10, width=50, wrap=\"word\", background=\"#ECF0F1\", foreground=\"#2C3E50\")\n",
        "        self.details_text.pack(pady=10)\n",
        "\n",
        "        # Additional widgets for displaying details\n",
        "        self.user_details_label = ttk.Label(master, text=\"User Details:\", foreground=\"black\")\n",
        "        self.user_details_label.pack()\n",
        "\n",
        "        self.expense_details_label = ttk.Label(master, text=\"Expense Details:\", foreground=\"black\")\n",
        "        self.expense_details_label.pack()"
      ],
      "metadata": {
        "id": "VCiFt9Tmt_GK"
      },
      "execution_count": null,
      "outputs": []
    },
    {
      "cell_type": "markdown",
      "source": [
        "# **Expense TrackerApp**"
      ],
      "metadata": {
        "id": "Gzh5-brRuAvI"
      }
    },
    {
      "cell_type": "code",
      "execution_count": null,
      "metadata": {
        "id": "x5EwFhrysBWr"
      },
      "outputs": [],
      "source": [
        "\n",
        "class ExpenseTrackerApp:\n",
        "    def __init__(self, master):\n",
        "        self.tracker = ExpenseTracker()\n",
        "\n",
        "    def add_user(self):\n",
        "        user_name = simpledialog.askstring(\"Add User\", \"Enter user name:\")\n",
        "        if user_name:\n",
        "            result = self.tracker.add_user(user_name)\n",
        "            messagebox.showinfo(\"Result\", result)\n",
        "            self.print_to_console(result)\n",
        "\n",
        "    def add_expense(self):\n",
        "        payer = simpledialog.askstring(\"Add Expense\", \"Enter the payer's name:\")\n",
        "        amount = simpledialog.askfloat(\"Add Expense\", \"Enter the expense amount:\")\n",
        "        participants_str = simpledialog.askstring(\"Add Expense\", \"Enter participants' names (comma-separated):\")\n",
        "        participants = participants_str.split(',') if participants_str else []\n",
        "        result = self.tracker.add_expense(payer, amount, participants)\n",
        "        messagebox.showinfo(\"Result\", result)\n",
        "        self.print_to_console(result)\n",
        "\n",
        "    def show_balances(self):\n",
        "        balances = self.tracker.show_balances()\n",
        "        self.details_text.delete(1.0, tk.END)  # Clear previous content\n",
        "        self.details_text.insert(tk.END, \"User Balances:\\n\" + balances)\n",
        "\n",
        "        # Display user details\n",
        "        self.user_details_label.config(text=\"User Details:\\n\" + balances)\n",
        "        self.print_to_console(\"User Balances:\\n\" + balances)\n",
        "\n",
        "    def show_expenses(self):\n",
        "        expenses = self.tracker.show_expenses()\n",
        "        self.details_text.delete(1.0, tk.END)  # Clear previous content\n",
        "        self.details_text.insert(tk.END, \"Expense Details:\\n\" + expenses)\n",
        "\n",
        "        # Display expense details\n",
        "        self.expense_details_label.config(text=\"Expense Details:\\n\" + expenses)\n",
        "        self.print_to_console(\"Expense Details:\\n\" + expenses)\n",
        "\n",
        "    def print_to_console(self, message):\n",
        "        print(message)\n",
        "\n"
      ]
    },
    {
      "cell_type": "markdown",
      "source": [
        "# **Main Execution Block**"
      ],
      "metadata": {
        "id": "eXkmMJSHty84"
      }
    },
    {
      "cell_type": "code",
      "source": [
        "if __name__ == \"__main__\":\n",
        "    root = tk.Tk()\n",
        "    app = ExpenseTrackerApp(root)\n",
        "    root.mainloop()"
      ],
      "metadata": {
        "id": "_rkPrMLvtyAN"
      },
      "execution_count": null,
      "outputs": []
    },
    {
      "cell_type": "markdown",
      "source": [
        "# **Conclusion**"
      ],
      "metadata": {
        "id": "7KEUlgPduTjt"
      }
    },
    {
      "cell_type": "markdown",
      "source": [
        "\n",
        "The Expense Splitter and Tracker is a user-friendly Python application built with Tkinter, enabling efficient management of shared expenses. With features like user addition, expense recording, and balance visualization, it simplifies financial tracking within groups. The classic Tkinter theme ensures a familiar interface, and contributions are welcome for further enhancements. Designed for transparency and ease of use, the application promotes collaboration and financial clarity. Released under the MIT License, it stands as a versatile tool for roommates, friends, or any group sharing expenses."
      ],
      "metadata": {
        "id": "PJCGjsHDuWm9"
      }
    }
  ]
}